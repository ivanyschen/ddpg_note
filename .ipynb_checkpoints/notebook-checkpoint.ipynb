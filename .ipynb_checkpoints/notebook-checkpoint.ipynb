{
 "cells": [
  {
   "cell_type": "markdown",
   "metadata": {},
   "source": [
    "## DDPG algorithm"
   ]
  },
  {
   "cell_type": "markdown",
   "metadata": {},
   "source": [
    "- randomly initialize critic network `Q` and actor `Mu` network with `W_Q` and `W_Mu`  \n",
    "- initialize target networks `Q'` and `Mu'` with weights `W_Q' = W_Q` and `W_Mu' = W_Mu`  \n",
    "- initialize replay buffer `R`\n",
    "\n",
    "- for iteration 1 to M:  \n",
    "  - initialize a random process `N` for **action exploration**\n",
    "  - By Lillicrap et al"
   ]
  },
  {
   "cell_type": "code",
   "execution_count": null,
   "metadata": {},
   "outputs": [],
   "source": []
  }
 ],
 "metadata": {
  "kernelspec": {
   "display_name": "Python 3",
   "language": "python",
   "name": "python3"
  },
  "language_info": {
   "codemirror_mode": {
    "name": "ipython",
    "version": 3
   },
   "file_extension": ".py",
   "mimetype": "text/x-python",
   "name": "python",
   "nbconvert_exporter": "python",
   "pygments_lexer": "ipython3",
   "version": "3.7.3"
  }
 },
 "nbformat": 4,
 "nbformat_minor": 2
}
